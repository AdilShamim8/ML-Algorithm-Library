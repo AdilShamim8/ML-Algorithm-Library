{
 "cells": [
  {
   "cell_type": "code",
   "execution_count": 3,
   "id": "c5a5f4fa-e6fb-42f6-a409-cbf851e5620a",
   "metadata": {},
   "outputs": [],
   "source": [
    "import numpy as np\n",
    "\n",
    "class HierarchicalClustering:\n",
    "    \"\"\"\n",
    "    Agglomerative Hierarchical Clustering (supports single, complete, average linkage).\n",
    "    \"\"\"\n",
    "    def __init__(self, n_clusters=2, linkage='single'):\n",
    "        self.n_clusters = n_clusters\n",
    "        assert linkage in ['single', 'complete', 'average'], \\\n",
    "            \"linkage must be 'single', 'complete', or 'average'\"\n",
    "        self.linkage = linkage\n",
    "        self.labels_ = None\n",
    "\n",
    "    def fit(self, X):\n",
    "        n_samples = X.shape[0]\n",
    "        # Start with each point as its own cluster\n",
    "        clusters = [[i] for i in range(n_samples)]\n",
    "        distances = self._compute_distances(X)\n",
    "        np.fill_diagonal(distances, np.inf)  # Don't merge with self\n",
    "\n",
    "        while len(clusters) > self.n_clusters:\n",
    "            # Find the two closest clusters\n",
    "            min_dist = np.inf\n",
    "            to_merge = (None, None)\n",
    "            for i in range(len(clusters)):\n",
    "                for j in range(i + 1, len(clusters)):\n",
    "                    dist = self._cluster_distance(clusters[i], clusters[j], distances)\n",
    "                    if dist < min_dist:\n",
    "                        min_dist = dist\n",
    "                        to_merge = (i, j)\n",
    "            i, j = to_merge\n",
    "            # Merge clusters i and j\n",
    "            clusters[i] = clusters[i] + clusters[j]\n",
    "            del clusters[j]\n",
    "\n",
    "        # Assign cluster labels\n",
    "        self.labels_ = np.zeros(n_samples, dtype=int)\n",
    "        for k, cluster in enumerate(clusters):\n",
    "            for idx in cluster:\n",
    "                self.labels_[idx] = k\n",
    "\n",
    "    def _compute_distances(self, X):\n",
    "        # Pairwise euclidean distances\n",
    "        n_samples = X.shape[0]\n",
    "        dists = np.zeros((n_samples, n_samples))\n",
    "        for i in range(n_samples):\n",
    "            for j in range(i+1, n_samples):\n",
    "                dist = np.linalg.norm(X[i] - X[j])\n",
    "                dists[i, j] = dists[j, i] = dist\n",
    "        return dists\n",
    "\n",
    "    def _cluster_distance(self, cluster1, cluster2, distance_matrix):\n",
    "        if self.linkage == 'single':\n",
    "            return np.min([distance_matrix[i, j] for i in cluster1 for j in cluster2])\n",
    "        elif self.linkage == 'complete':\n",
    "            return np.max([distance_matrix[i, j] for i in cluster1 for j in cluster2])\n",
    "        elif self.linkage == 'average':\n",
    "            return np.mean([distance_matrix[i, j] for i in cluster1 for j in cluster2])\n",
    "        else:\n",
    "            raise ValueError(\"Unknown linkage type\")"
   ]
  },
  {
   "cell_type": "markdown",
   "id": "78c6a3c8-114e-4856-82f9-aee5757bb570",
   "metadata": {},
   "source": [
    "> ## Example usage:"
   ]
  },
  {
   "cell_type": "code",
   "execution_count": 4,
   "id": "e1dc26d9-3966-4060-b549-e64a72127df7",
   "metadata": {},
   "outputs": [
    {
     "name": "stdout",
     "output_type": "stream",
     "text": [
      "Single linkage labels: [0 0 1 1 0 1 2 2 2]\n",
      "Complete linkage labels: [0 0 1 1 0 1 2 2 2]\n",
      "Average linkage labels: [0 0 1 1 0 1 2 2 2]\n"
     ]
    }
   ],
   "source": [
    "X = np.array([\n",
    "        [1.0, 2.0], [1.5, 1.8], [5.0, 8.0],\n",
    "        [8.0, 8.0], [1.0, 0.6], [9.0, 11.0],\n",
    "        [8.0, 2.0], [10.0, 2.0], [9.0, 3.0]\n",
    "    ])\n",
    "for linkage in ['single', 'complete', 'average']:\n",
    "    hc = HierarchicalClustering(n_clusters=3, linkage=linkage)\n",
    "    hc.fit(X)\n",
    "    print(f\"{linkage.capitalize()} linkage labels:\", hc.labels_)"
   ]
  }
 ],
 "metadata": {
  "kernelspec": {
   "display_name": "Python 3 (ipykernel)",
   "language": "python",
   "name": "python3"
  },
  "language_info": {
   "codemirror_mode": {
    "name": "ipython",
    "version": 3
   },
   "file_extension": ".py",
   "mimetype": "text/x-python",
   "name": "python",
   "nbconvert_exporter": "python",
   "pygments_lexer": "ipython3",
   "version": "3.10.10"
  }
 },
 "nbformat": 4,
 "nbformat_minor": 5
}
