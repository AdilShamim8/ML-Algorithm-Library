{
 "cells": [
  {
   "cell_type": "code",
   "execution_count": 3,
   "id": "de9284eb-8e85-4538-9840-a133df4e9717",
   "metadata": {},
   "outputs": [],
   "source": [
    "import numpy as np\n",
    "\n",
    "class PCA:\n",
    "    \"\"\"\n",
    "    Principal Component Analysis (PCA) from scratch.\n",
    "    \"\"\"\n",
    "    def __init__(self, n_components):\n",
    "        self.n_components = n_components\n",
    "        self.components_ = None\n",
    "        self.mean_ = None\n",
    "        self.explained_variance_ = None\n",
    "\n",
    "    def fit(self, X):\n",
    "        # Center the data\n",
    "        self.mean_ = np.mean(X, axis=0)\n",
    "        X_centered = X - self.mean_\n",
    "\n",
    "        # Compute covariance matrix\n",
    "        cov = np.cov(X_centered, rowvar=False)\n",
    "\n",
    "        # Eigen decomposition\n",
    "        eigvals, eigvecs = np.linalg.eigh(cov)\n",
    "        # Sort eigenvalues and eigenvectors in descending order\n",
    "        idxs = np.argsort(eigvals)[::-1]\n",
    "        eigvals = eigvals[idxs]\n",
    "        eigvecs = eigvecs[:, idxs]\n",
    "\n",
    "        # Store first n_components\n",
    "        self.components_ = eigvecs[:, :self.n_components]\n",
    "        self.explained_variance_ = eigvals[:self.n_components]\n",
    "\n",
    "    def transform(self, X):\n",
    "        # Project data\n",
    "        X_centered = X - self.mean_\n",
    "        return np.dot(X_centered, self.components_)\n",
    "\n",
    "    def fit_transform(self, X):\n",
    "        self.fit(X)\n",
    "        return self.transform(X)\n",
    "\n",
    "    def explained_variance_ratio(self):\n",
    "        total = np.sum(self.explained_variance_)\n",
    "        all_var = np.sum(self.explained_variance_) + np.sum(\n",
    "            np.linalg.eigvalsh(np.cov((X - self.mean_), rowvar=False))[self.n_components:]\n",
    "        )\n",
    "        return self.explained_variance_ / all_var"
   ]
  },
  {
   "cell_type": "markdown",
   "id": "afea7674-e7e5-4804-ac04-84f60c8758e1",
   "metadata": {},
   "source": [
    "> ## Example usage:"
   ]
  },
  {
   "cell_type": "code",
   "execution_count": 4,
   "id": "1db60769-4083-4f7b-8081-c243fae2581f",
   "metadata": {},
   "outputs": [
    {
     "name": "stdout",
     "output_type": "stream",
     "text": [
      "Transformed X: [[ 0.82797019]\n",
      " [-1.77758033]\n",
      " [ 0.99219749]\n",
      " [ 0.27421042]\n",
      " [ 1.67580142]\n",
      " [ 0.9129491 ]\n",
      " [-0.09910944]\n",
      " [-1.14457216]\n",
      " [-0.43804614]\n",
      " [-1.22382056]]\n",
      "Principal Components:\n",
      " [[0.6778734 ]\n",
      " [0.73517866]]\n",
      "Explained Variance: [1.28402771]\n"
     ]
    }
   ],
   "source": [
    "# Simple 2D dataset\n",
    "X = np.array([[2.5, 2.4],\n",
    "                  [0.5, 0.7],\n",
    "                  [2.2, 2.9],\n",
    "                  [1.9, 2.2],\n",
    "                  [3.1, 3.0],\n",
    "                  [2.3, 2.7],\n",
    "                  [2, 1.6],\n",
    "                  [1, 1.1],\n",
    "                  [1.5, 1.6],\n",
    "                  [1.1, 0.9]])\n",
    "pca = PCA(n_components=1)\n",
    "X_reduced = pca.fit_transform(X)\n",
    "print(\"Transformed X:\", X_reduced)\n",
    "print(\"Principal Components:\\n\", pca.components_)\n",
    "print(\"Explained Variance:\", pca.explained_variance_)"
   ]
  }
 ],
 "metadata": {
  "kernelspec": {
   "display_name": "Python 3 (ipykernel)",
   "language": "python",
   "name": "python3"
  },
  "language_info": {
   "codemirror_mode": {
    "name": "ipython",
    "version": 3
   },
   "file_extension": ".py",
   "mimetype": "text/x-python",
   "name": "python",
   "nbconvert_exporter": "python",
   "pygments_lexer": "ipython3",
   "version": "3.10.10"
  }
 },
 "nbformat": 4,
 "nbformat_minor": 5
}
