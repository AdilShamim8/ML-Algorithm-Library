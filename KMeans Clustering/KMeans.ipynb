{
 "cells": [
  {
   "cell_type": "code",
   "execution_count": 2,
   "id": "47fe45bb-f660-4c39-b89a-11e581f0fab5",
   "metadata": {},
   "outputs": [],
   "source": [
    "import numpy as np\n",
    "\n",
    "class KMeans:\n",
    "    \"\"\"\n",
    "    K-Means clustering from scratch.\n",
    "    \"\"\"\n",
    "\n",
    "    def __init__(self, n_clusters=3, max_iter=100, tol=1e-4):\n",
    "        self.n_clusters = n_clusters\n",
    "        self.max_iter = max_iter\n",
    "        self.tol = tol  # tolerance to declare convergence\n",
    "\n",
    "    def fit(self, X):\n",
    "        n_samples, n_features = X.shape\n",
    "        # Randomly initialize centroids\n",
    "        rng = np.random.default_rng()\n",
    "        random_idx = rng.choice(n_samples, self.n_clusters, replace=False)\n",
    "        self.centroids_ = X[random_idx]\n",
    "\n",
    "        for i in range(self.max_iter):\n",
    "            # Assign clusters\n",
    "            distances = np.linalg.norm(X[:, np.newaxis] - self.centroids_, axis=2)\n",
    "            self.labels_ = np.argmin(distances, axis=1)\n",
    "\n",
    "            # Compute new centroids\n",
    "            new_centroids = np.array([\n",
    "                X[self.labels_ == k].mean(axis=0) if np.any(self.labels_ == k) else self.centroids_[k]\n",
    "                for k in range(self.n_clusters)\n",
    "            ])\n",
    "\n",
    "            # Check for convergence\n",
    "            diff = np.linalg.norm(self.centroids_ - new_centroids)\n",
    "            if diff < self.tol:\n",
    "                break\n",
    "            self.centroids_ = new_centroids\n",
    "\n",
    "    def predict(self, X):\n",
    "        distances = np.linalg.norm(X[:, np.newaxis] - self.centroids_, axis=2)\n",
    "        return np.argmin(distances, axis=1)"
   ]
  },
  {
   "cell_type": "markdown",
   "id": "86919d34-c717-4eaa-8e7a-518f7ba71237",
   "metadata": {},
   "source": [
    "> ## Example usage:"
   ]
  },
  {
   "cell_type": "code",
   "execution_count": 3,
   "id": "a697cf90-a5b5-4d69-91b9-5afa6e04777a",
   "metadata": {},
   "outputs": [
    {
     "name": "stdout",
     "output_type": "stream",
     "text": [
      "Centroids:\n",
      " [[7.33333333 9.        ]\n",
      " [9.         2.33333333]\n",
      " [1.16666667 1.46666667]]\n",
      "Labels: [2 2 0 0 2 0 1 1 1]\n",
      "Predicted clusters for test points: [2 0]\n"
     ]
    }
   ],
   "source": [
    "X = np.array([\n",
    "        [1.0, 2.0], [1.5, 1.8], [5.0, 8.0],\n",
    "        [8.0, 8.0], [1.0, 0.6], [9.0, 11.0],\n",
    "        [8.0, 2.0], [10.0, 2.0], [9.0, 3.0]\n",
    "    ])\n",
    "kmeans = KMeans(n_clusters=3)\n",
    "kmeans.fit(X)\n",
    "print(\"Centroids:\\n\", kmeans.centroids_)\n",
    "print(\"Labels:\", kmeans.labels_)\n",
    "test_pts = np.array([[0.5, 2.0], [8.5, 7.5]])\n",
    "print(\"Predicted clusters for test points:\", kmeans.predict(test_pts))"
   ]
  }
 ],
 "metadata": {
  "kernelspec": {
   "display_name": "Python 3 (ipykernel)",
   "language": "python",
   "name": "python3"
  },
  "language_info": {
   "codemirror_mode": {
    "name": "ipython",
    "version": 3
   },
   "file_extension": ".py",
   "mimetype": "text/x-python",
   "name": "python",
   "nbconvert_exporter": "python",
   "pygments_lexer": "ipython3",
   "version": "3.10.10"
  }
 },
 "nbformat": 4,
 "nbformat_minor": 5
}
