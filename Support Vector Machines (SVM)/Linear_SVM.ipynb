{
 "cells": [
  {
   "cell_type": "code",
   "execution_count": 2,
   "id": "23cb71d5-6c93-4529-b0bb-8215613c0f8c",
   "metadata": {},
   "outputs": [],
   "source": [
    "import numpy as np\n",
    "\n",
    "class LinearSVM:\n",
    "    \"\"\"\n",
    "    Linear Support Vector Machine (SVM) classifier using batch gradient descent.\n",
    "    This implementation is for binary classification only (labels: -1 and 1).\n",
    "    \"\"\"\n",
    "\n",
    "    def __init__(self, learning_rate=0.001, lambda_param=0.01, iterations=1000):\n",
    "        \"\"\"\n",
    "        Parameters:\n",
    "        -----------\n",
    "        learning_rate : float\n",
    "            Step size for gradient descent.\n",
    "        lambda_param : float\n",
    "            Regularization parameter (C = 1/lambda_param).\n",
    "        iterations : int\n",
    "            Number of iterations for training.\n",
    "        \"\"\"\n",
    "        self.learning_rate = learning_rate\n",
    "        self.lambda_param = lambda_param\n",
    "        self.iterations = iterations\n",
    "        self.w = None\n",
    "        self.b = None\n",
    "\n",
    "    def fit(self, X, y):\n",
    "        \"\"\"\n",
    "        Fit the Linear SVM model to training data.\n",
    "\n",
    "        Parameters:\n",
    "        -----------\n",
    "        X : numpy.ndarray\n",
    "            Training features, shape (n_samples, n_features).\n",
    "        y : numpy.ndarray\n",
    "            Target values, shape (n_samples,). Must be -1 or 1.\n",
    "        \"\"\"\n",
    "        n_samples, n_features = X.shape\n",
    "        # Initialize weights and bias\n",
    "        self.w = np.zeros(n_features)\n",
    "        self.b = 0.0\n",
    "\n",
    "        # Convert labels to -1 and 1 if needed\n",
    "        y_ = np.where(y <= 0, -1, 1)\n",
    "\n",
    "        for _ in range(self.iterations):\n",
    "            for idx, xi in enumerate(X):\n",
    "                condition = y_[idx] * (np.dot(xi, self.w) + self.b) >= 1\n",
    "                if condition:\n",
    "                    grad_w = 2 * self.lambda_param * self.w\n",
    "                    grad_b = 0\n",
    "                else:\n",
    "                    grad_w = 2 * self.lambda_param * self.w - np.dot(xi, y_[idx])\n",
    "                    grad_b = -y_[idx]\n",
    "                # Update parameters\n",
    "                self.w -= self.learning_rate * grad_w\n",
    "                self.b -= self.learning_rate * grad_b\n",
    "\n",
    "    def decision_function(self, X):\n",
    "        \"\"\"\n",
    "        Compute the decision function.\n",
    "        Parameters:\n",
    "        -----------\n",
    "        X : numpy.ndarray\n",
    "            Input features.\n",
    "        Returns:\n",
    "        --------\n",
    "        numpy.ndarray\n",
    "            Distance to the decision boundary.\n",
    "        \"\"\"\n",
    "        return np.dot(X, self.w) + self.b\n",
    "\n",
    "    def predict(self, X):\n",
    "        \"\"\"\n",
    "        Predict binary class labels for samples in X.\n",
    "        Parameters:\n",
    "        -----------\n",
    "        X : numpy.ndarray\n",
    "            Input features.\n",
    "        Returns:\n",
    "        --------\n",
    "        numpy.ndarray\n",
    "            Predicted class labels (-1 or 1).\n",
    "        \"\"\"\n",
    "        return np.where(self.decision_function(X) >= 0, 1, -1)"
   ]
  },
  {
   "cell_type": "markdown",
   "id": "fb36b421-d934-4c0e-bf3e-880385885b27",
   "metadata": {},
   "source": [
    "> ## Example usage:"
   ]
  },
  {
   "cell_type": "code",
   "execution_count": 3,
   "id": "2bca0224-dc1e-4bec-a0c7-4eb949404516",
   "metadata": {},
   "outputs": [
    {
     "name": "stdout",
     "output_type": "stream",
     "text": [
      "Linear SVM accuracy: 1.0\n"
     ]
    }
   ],
   "source": [
    "# Generate simple separable data\n",
    "np.random.seed(42)\n",
    "X1 = np.random.randn(50, 2) + [2, 2]\n",
    "X2 = np.random.randn(50, 2) + [-2, -2]\n",
    "X = np.vstack([X1, X2])\n",
    "y = np.hstack([np.ones(50), -np.ones(50)])\n",
    "\n",
    "# Train SVM\n",
    "svm = LinearSVM(learning_rate=0.001, lambda_param=0.01, iterations=1000)\n",
    "svm.fit(X, y)\n",
    "y_pred = svm.predict(X)\n",
    "accuracy = np.mean(y_pred == y)\n",
    "print(\"Linear SVM accuracy:\", accuracy)"
   ]
  }
 ],
 "metadata": {
  "kernelspec": {
   "display_name": "Python 3 (ipykernel)",
   "language": "python",
   "name": "python3"
  },
  "language_info": {
   "codemirror_mode": {
    "name": "ipython",
    "version": 3
   },
   "file_extension": ".py",
   "mimetype": "text/x-python",
   "name": "python",
   "nbconvert_exporter": "python",
   "pygments_lexer": "ipython3",
   "version": "3.10.10"
  }
 },
 "nbformat": 4,
 "nbformat_minor": 5
}
