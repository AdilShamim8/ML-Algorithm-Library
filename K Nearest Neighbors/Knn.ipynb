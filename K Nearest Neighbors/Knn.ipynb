{
 "cells": [
  {
   "cell_type": "code",
   "execution_count": 3,
   "id": "b5c62875-90ea-4abd-993d-718776cca85e",
   "metadata": {},
   "outputs": [],
   "source": [
    "import numpy as np\n",
    "from collections import Counter\n",
    "\n",
    "class KNearestNeighbors:\n",
    "    \"\"\"\n",
    "    K-Nearest Neighbors (KNN) classifier from scratch.\n",
    "    Supports both classification and regression (majority vote or mean).\n",
    "    \"\"\"\n",
    "    def __init__(self, n_neighbors=3, task=\"classification\"):\n",
    "        \"\"\"\n",
    "        Parameters:\n",
    "        -----------\n",
    "        n_neighbors : int\n",
    "            Number of neighbors to use.\n",
    "        task : str, \"classification\" or \"regression\"\n",
    "            Determines type of prediction.\n",
    "        \"\"\"\n",
    "        self.n_neighbors = n_neighbors\n",
    "        self.task = task\n",
    "        self.X_train = None\n",
    "        self.y_train = None\n",
    "\n",
    "    def fit(self, X, y):\n",
    "        \"\"\"\n",
    "        Store the training data.\n",
    "\n",
    "        Parameters:\n",
    "        -----------\n",
    "        X : numpy.ndarray\n",
    "            Training data (n_samples, n_features)\n",
    "        y : numpy.ndarray\n",
    "            Target values (n_samples,)\n",
    "        \"\"\"\n",
    "        self.X_train = X\n",
    "        self.y_train = y\n",
    "\n",
    "    def _euclidean_distance(self, a, b):\n",
    "        return np.sqrt(np.sum((a - b) ** 2, axis=1))\n",
    "\n",
    "    def predict(self, X):\n",
    "        \"\"\"\n",
    "        Predict the class (or value) for each sample in X.\n",
    "\n",
    "        Parameters:\n",
    "        -----------\n",
    "        X : numpy.ndarray\n",
    "            Test data (n_samples, n_features)\n",
    "\n",
    "        Returns:\n",
    "        --------\n",
    "        numpy.ndarray\n",
    "            Predicted classes/values (n_samples,)\n",
    "        \"\"\"\n",
    "        predictions = []\n",
    "        for x in X:\n",
    "            # Compute distances to all training points\n",
    "            distances = self._euclidean_distance(self.X_train, x)\n",
    "            # Get the indices of the nearest neighbors\n",
    "            neighbors_idx = np.argsort(distances)[:self.n_neighbors]\n",
    "            neighbor_labels = self.y_train[neighbors_idx]\n",
    "\n",
    "            if self.task == \"classification\":\n",
    "                # Majority vote\n",
    "                most_common = Counter(neighbor_labels).most_common(1)[0][0]\n",
    "                predictions.append(most_common)\n",
    "            elif self.task == \"regression\":\n",
    "                # Mean value\n",
    "                predictions.append(np.mean(neighbor_labels))\n",
    "            else:\n",
    "                raise ValueError(\"Unknown task type. Use 'classification' or 'regression'.\")\n",
    "        return np.array(predictions)"
   ]
  },
  {
   "cell_type": "markdown",
   "id": "eee95be7-aaa0-469b-982c-bf4a129f08ff",
   "metadata": {},
   "source": [
    "> ## Example usage:"
   ]
  },
  {
   "cell_type": "code",
   "execution_count": 4,
   "id": "b74ca0bc-27d1-49e6-883e-56d1cca88f2b",
   "metadata": {},
   "outputs": [
    {
     "name": "stdout",
     "output_type": "stream",
     "text": [
      "Classification predictions: [0 1]\n",
      "Regression predictions: [1.25 5.25]\n"
     ]
    }
   ],
   "source": [
    "# Classification example\n",
    "X_train = np.array([[1,2], [2,3], [3,4], [6,7], [7,8], [8,9]])\n",
    "y_train = np.array([0, 0, 0, 1, 1, 1])\n",
    "X_test = np.array([[2,2], [7,7]])\n",
    "knn = KNearestNeighbors(n_neighbors=3, task=\"classification\")\n",
    "knn.fit(X_train, y_train)\n",
    "print(\"Classification predictions:\", knn.predict(X_test))\n",
    "\n",
    "# Regression example\n",
    "y_train_reg = np.array([1.0, 1.5, 2.0, 5.0, 5.5, 6.0])\n",
    "knn_reg = KNearestNeighbors(n_neighbors=2, task=\"regression\")\n",
    "knn_reg.fit(X_train, y_train_reg)\n",
    "print(\"Regression predictions:\", knn_reg.predict(X_test))"
   ]
  }
 ],
 "metadata": {
  "kernelspec": {
   "display_name": "Python 3 (ipykernel)",
   "language": "python",
   "name": "python3"
  },
  "language_info": {
   "codemirror_mode": {
    "name": "ipython",
    "version": 3
   },
   "file_extension": ".py",
   "mimetype": "text/x-python",
   "name": "python",
   "nbconvert_exporter": "python",
   "pygments_lexer": "ipython3",
   "version": "3.10.10"
  }
 },
 "nbformat": 4,
 "nbformat_minor": 5
}
