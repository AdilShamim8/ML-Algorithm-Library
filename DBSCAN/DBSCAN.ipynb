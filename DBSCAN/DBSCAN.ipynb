{
 "cells": [
  {
   "cell_type": "code",
   "execution_count": 3,
   "id": "5489db1b-cf40-44de-a621-85caa9c7e1a9",
   "metadata": {},
   "outputs": [],
   "source": [
    "import numpy as np\n",
    "\n",
    "class DBSCAN:\n",
    "    \"\"\"\n",
    "    Density-Based Spatial Clustering of Applications with Noise (DBSCAN) from scratch.\n",
    "    \"\"\"\n",
    "    def __init__(self, eps=0.5, min_samples=5):\n",
    "        self.eps = eps\n",
    "        self.min_samples = min_samples\n",
    "        self.labels_ = None\n",
    "\n",
    "    def fit(self, X):\n",
    "        n = X.shape[0]\n",
    "        labels = np.full(n, -1, dtype=int)  # -1 means noise\n",
    "        cluster_id = 0\n",
    "        visited = np.zeros(n, dtype=bool)\n",
    "\n",
    "        for i in range(n):\n",
    "            if visited[i]:\n",
    "                continue\n",
    "            visited[i] = True\n",
    "            neighbors = self._region_query(X, i)\n",
    "            if len(neighbors) < self.min_samples:\n",
    "                labels[i] = -1  # noise\n",
    "            else:\n",
    "                self._expand_cluster(X, labels, i, neighbors, cluster_id, visited)\n",
    "                cluster_id += 1\n",
    "        self.labels_ = labels\n",
    "\n",
    "    def _region_query(self, X, idx):\n",
    "        # Returns indices of all points within eps of point idx\n",
    "        dists = np.linalg.norm(X - X[idx], axis=1)\n",
    "        return np.where(dists <= self.eps)[0].tolist()\n",
    "\n",
    "    def _expand_cluster(self, X, labels, idx, neighbors, cluster_id, visited):\n",
    "        labels[idx] = cluster_id\n",
    "        i = 0\n",
    "        while i < len(neighbors):\n",
    "            n_idx = neighbors[i]\n",
    "            if not visited[n_idx]:\n",
    "                visited[n_idx] = True\n",
    "                n_neighbors = self._region_query(X, n_idx)\n",
    "                if len(n_neighbors) >= self.min_samples:\n",
    "                    neighbors += [n for n in n_neighbors if n not in neighbors]\n",
    "            if labels[n_idx] == -1:\n",
    "                labels[n_idx] = cluster_id\n",
    "            i += 1"
   ]
  },
  {
   "cell_type": "markdown",
   "id": "2331b06a-b6b1-4ef1-b598-e41a4d1e25c3",
   "metadata": {},
   "source": [
    "> ## Example usage:"
   ]
  },
  {
   "cell_type": "code",
   "execution_count": 4,
   "id": "c80c1e75-8481-49d6-bbdb-836f9d88c2ee",
   "metadata": {},
   "outputs": [
    {
     "name": "stdout",
     "output_type": "stream",
     "text": [
      "DBSCAN labels: [ 0  0  0  1  1 -1  1  1  0  0]\n"
     ]
    }
   ],
   "source": [
    "# Example: two clusters and some noise\n",
    "X = np.array([\n",
    "        [1, 2], [2, 2], [2, 3], [8, 7], [8, 8], [25, 80],\n",
    "        [8, 9], [7, 8], [1, 1.5], [1.2, 1.8]\n",
    "    ])\n",
    "dbscan = DBSCAN(eps=1.5, min_samples=2)\n",
    "dbscan.fit(X)\n",
    "print(\"DBSCAN labels:\", dbscan.labels_)"
   ]
  }
 ],
 "metadata": {
  "kernelspec": {
   "display_name": "Python 3 (ipykernel)",
   "language": "python",
   "name": "python3"
  },
  "language_info": {
   "codemirror_mode": {
    "name": "ipython",
    "version": 3
   },
   "file_extension": ".py",
   "mimetype": "text/x-python",
   "name": "python",
   "nbconvert_exporter": "python",
   "pygments_lexer": "ipython3",
   "version": "3.10.10"
  }
 },
 "nbformat": 4,
 "nbformat_minor": 5
}
