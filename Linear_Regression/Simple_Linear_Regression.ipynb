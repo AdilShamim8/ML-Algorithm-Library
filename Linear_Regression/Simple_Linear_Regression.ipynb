{
 "cells": [
  {
   "cell_type": "code",
   "execution_count": 7,
   "id": "4158c699-0bf8-4bd7-a291-41a4b608c67d",
   "metadata": {},
   "outputs": [],
   "source": [
    "import numpy as np\n",
    "\n",
    "class SimpleLinearReg:\n",
    "    \"\"\"\n",
    "    Simple Linear Regression Model\n",
    "    \n",
    "    This class implements a simple linear regression with a single feature (X) \n",
    "    and a single target variable (y). It calculates the slope (self.m) \n",
    "    and intercept (self.b) using the formula for linear regression coefficients.\n",
    "    \"\"\"\n",
    "    \n",
    "    def __init__(self):\n",
    "        # Initialize slope (m) and intercept (b) as None\n",
    "        self.m = None\n",
    "        self.b = None\n",
    "\n",
    "    def fit(self, X_train, y_train):\n",
    "        \"\"\"\n",
    "        Fit the simple linear regression model to the training data.\n",
    "        \n",
    "        Parameters:\n",
    "        X_train (ndarray): 1D numpy array with feature values.\n",
    "        y_train (ndarray): 1D numpy array with target values.\n",
    "        \"\"\"\n",
    "        # Ensure X_train, y_train are numpy arrays\n",
    "        X_train = np.array(X_train)\n",
    "        y_train = np.array(y_train)\n",
    "\n",
    "        # Calculate means\n",
    "        x_mean = X_train.mean()\n",
    "        y_mean = y_train.mean()\n",
    "        \n",
    "        # Numerator and denominator for slope calculation\n",
    "        num = 0\n",
    "        den = 0\n",
    "        for i in range(X_train.shape[0]):\n",
    "            num += (X_train[i] - x_mean) * (y_train[i] - y_mean)\n",
    "            den += (X_train[i] - x_mean) ** 2\n",
    "\n",
    "        # Compute slope (m)\n",
    "        self.m = num / den\n",
    "        \n",
    "        # Compute intercept (b)\n",
    "        self.b = y_mean - self.m * x_mean\n",
    "        \n",
    "        print(\"Trained SimpleLinearReg:\")\n",
    "        print(\"  Slope (m):\", self.m)\n",
    "        print(\"  Intercept (b):\", self.b)\n",
    "\n",
    "    def predict(self, X_test):\n",
    "        \"\"\"\n",
    "        Predict target values for the given test features.\n",
    "        \n",
    "        Parameters:\n",
    "        X_test (ndarray): 1D numpy array of feature values.\n",
    "        \n",
    "        Returns:\n",
    "        ndarray: Predicted target values.\n",
    "        \"\"\"\n",
    "        X_test = np.array(X_test)\n",
    "        return self.m * X_test + self.b"
   ]
  },
  {
   "cell_type": "markdown",
   "id": "2b1c4bbf-6e52-4920-8b6e-819287c56868",
   "metadata": {},
   "source": [
    "> ## Demo: Creating and training a simple synthetic dataset for Simple Linear Regression"
   ]
  },
  {
   "cell_type": "code",
   "execution_count": 6,
   "id": "ab80651e-0a07-4535-9f01-18367257206f",
   "metadata": {},
   "outputs": [
    {
     "name": "stdout",
     "output_type": "stream",
     "text": [
      "Trained SimpleLinearReg:\n",
      "  Slope (m): 8.0\n",
      "  Intercept (b): 21.0\n",
      "Predictions for years [6, 7]: [69. 77.]\n"
     ]
    }
   ],
   "source": [
    "# Create a small synthetic dataset\n",
    "# X_train: years of experience, y_train: salary in thousands\n",
    "X_train = np.array([1, 2, 3, 4, 5], dtype=float)\n",
    "y_train = np.array([30, 35, 45, 55, 60], dtype=float)\n",
    "    \n",
    "# Instantiate and train the Simple Linear Regression model\n",
    "slr = SimpleLinearReg()\n",
    "slr.fit(X_train, y_train)\n",
    "    \n",
    "# Predict on a test set (e.g., next 2 years of experience)\n",
    "X_test = np.array([6, 7], dtype=float)\n",
    "predictions = slr.predict(X_test)\n",
    "print(\"Predictions for years [6, 7]:\", predictions)"
   ]
  }
 ],
 "metadata": {
  "kernelspec": {
   "display_name": "Python 3 (ipykernel)",
   "language": "python",
   "name": "python3"
  },
  "language_info": {
   "codemirror_mode": {
    "name": "ipython",
    "version": 3
   },
   "file_extension": ".py",
   "mimetype": "text/x-python",
   "name": "python",
   "nbconvert_exporter": "python",
   "pygments_lexer": "ipython3",
   "version": "3.10.10"
  }
 },
 "nbformat": 4,
 "nbformat_minor": 5
}
