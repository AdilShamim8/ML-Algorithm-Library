{
 "cells": [
  {
   "cell_type": "code",
   "execution_count": 7,
   "id": "093f70f3-2cc8-4d19-a6cb-ca9a1e0e22cc",
   "metadata": {},
   "outputs": [],
   "source": [
    "import numpy as np\n",
    "\n",
    "class MultipleLinearReg:\n",
    "    \"\"\"\n",
    "    Multiple Linear Regression Model\n",
    "    This class implements multiple linear regression using the Normal Equation\n",
    "    (betas = (X^T * X)^(-1) * X^T * y). \n",
    "    It supports multiple features (columns in X).\n",
    "    \"\"\"\n",
    "    \n",
    "    def __init__(self):\n",
    "        # Initialize coefficients and intercept as None\n",
    "        self.coef_ = None\n",
    "        self.intercept_ = None\n",
    "\n",
    "    def fit(self, X_train, y_train):\n",
    "        \"\"\"\n",
    "        Fit the multiple linear regression model to the training data.\n",
    "        \n",
    "        Parameters:\n",
    "        X_train (ndarray): 2D numpy array where each row is a sample and each column is a feature.\n",
    "        y_train (ndarray): 1D numpy array of target values.\n",
    "        \"\"\"\n",
    "        # Insert a column of ones at the beginning for the intercept term\n",
    "        X_train = np.insert(X_train, 0, 1, axis=1)\n",
    "\n",
    "        # Calculate the coefficients using the Normal Equation\n",
    "        betas = np.linalg.pinv(X_train.T @ X_train) @ X_train.T @ y_train\n",
    "        \n",
    "        # The first value is the intercept, the rest are feature coefficients\n",
    "        self.intercept_ = betas[0]\n",
    "        self.coef_ = betas[1:]\n",
    "        \n",
    "        print(\"Trained MultipleLinearReg:\")\n",
    "        print(\"  Intercept:\", self.intercept_)\n",
    "        print(\"  Coefficients:\", self.coef_)\n",
    "\n",
    "    def predict(self, X_test):\n",
    "        \"\"\"\n",
    "        Predict target values for the given test features.\n",
    "        \n",
    "        Parameters:\n",
    "        X_test (ndarray): 2D numpy array of features.\n",
    "        \n",
    "        Returns:\n",
    "        ndarray: Predicted target values.\n",
    "        \"\"\"\n",
    "        # Multiply features by coefficients, then add intercept\n",
    "        return (X_test @ self.coef_) + self.intercept_"
   ]
  },
  {
   "cell_type": "markdown",
   "id": "581036d2-f699-4e04-a9a9-58d432478641",
   "metadata": {},
   "source": [
    "> ## Demo: Creating and training a simple synthetic dataset for Multiple Linear Regression"
   ]
  },
  {
   "cell_type": "code",
   "execution_count": 3,
   "id": "0a8c426a-9773-49ae-bfec-c15afaf1dfe4",
   "metadata": {},
   "outputs": [
    {
     "name": "stdout",
     "output_type": "stream",
     "text": [
      "Trained MultipleLinearReg:\n",
      "  Intercept: 22.238095238095205\n",
      "  Coefficients: [6.73809524 3.61904762]\n",
      "Predictions for test data:\n",
      "[[4. 3.]\n",
      " [6. 2.]] -> [60.04761905 69.9047619 ]\n"
     ]
    }
   ],
   "source": [
    " # Create a small synthetic dataset\n",
    "# X_train: [years of experience, number of certificates], y_train: salary in thousands\n",
    "X_train = np.array([\n",
    "        [1, 0],\n",
    "        [2, 0],\n",
    "        [2, 1],\n",
    "        [3, 1],\n",
    "        [3, 2],\n",
    "        [4, 2],\n",
    "        [5, 3]\n",
    "    ], dtype=float)\n",
    "y_train = np.array([30, 35, 38, 45, 50, 60, 65], dtype=float)\n",
    "    \n",
    "# Instantiate and train the Multiple Linear Regression model\n",
    "mlr = MultipleLinearReg()\n",
    "mlr.fit(X_train, y_train)\n",
    "    \n",
    "# Predict on a test set\n",
    "# Suppose we want to predict salaries for 2 candidates:\n",
    "# (4 years experience, 3 certificates) and (6 years experience, 2 certificates)\n",
    "X_test = np.array([\n",
    "        [4, 3],\n",
    "        [6, 2]\n",
    "    ], dtype=float)\n",
    "predictions = mlr.predict(X_test)\n",
    "print(\"Predictions for test data:\")\n",
    "print(X_test, \"->\", predictions)"
   ]
  }
 ],
 "metadata": {
  "kernelspec": {
   "display_name": "Python 3 (ipykernel)",
   "language": "python",
   "name": "python3"
  },
  "language_info": {
   "codemirror_mode": {
    "name": "ipython",
    "version": 3
   },
   "file_extension": ".py",
   "mimetype": "text/x-python",
   "name": "python",
   "nbconvert_exporter": "python",
   "pygments_lexer": "ipython3",
   "version": "3.10.10"
  }
 },
 "nbformat": 4,
 "nbformat_minor": 5
}
