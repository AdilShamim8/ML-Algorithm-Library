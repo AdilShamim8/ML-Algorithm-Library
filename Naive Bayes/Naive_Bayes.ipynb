{
 "cells": [
  {
   "cell_type": "code",
   "execution_count": 1,
   "id": "adbc5077-602a-4dd1-8817-56a31b2e9bc4",
   "metadata": {},
   "outputs": [
    {
     "name": "stdout",
     "output_type": "stream",
     "text": [
      "Predictions: [0 1 0]\n"
     ]
    }
   ],
   "source": [
    "import numpy as np\n",
    "\n",
    "class NaiveBayes:\n",
    "    \"\"\"\n",
    "    Naive Bayes classifier for discrete features (Multinomial NB).\n",
    "    Suitable for text classification, categorical data, etc.\n",
    "    \"\"\"\n",
    "\n",
    "    def fit(self, X, y):\n",
    "        \"\"\"\n",
    "        Fit the Naive Bayes classifier from the training set.\n",
    "\n",
    "        Parameters:\n",
    "        -----------\n",
    "        X : numpy.ndarray\n",
    "            Training features (n_samples, n_features). Should be integer counts or categories.\n",
    "        y : numpy.ndarray\n",
    "            Target labels (n_samples,). Should be integers (0, 1, ..., n_classes-1).\n",
    "        \"\"\"\n",
    "        n_samples, n_features = X.shape\n",
    "        self.classes = np.unique(y)\n",
    "        n_classes = len(self.classes)\n",
    "\n",
    "        # Initialize prior and likelihood\n",
    "        self.class_priors = np.zeros(n_classes)\n",
    "        self.feature_likelihoods = np.zeros((n_classes, n_features, np.max(X) + 1))\n",
    "\n",
    "        for idx, c in enumerate(self.classes):\n",
    "            X_c = X[y == c]\n",
    "            self.class_priors[idx] = X_c.shape[0] / n_samples\n",
    "            # Laplace smoothing for likelihood estimation\n",
    "            for f in range(n_features):\n",
    "                feature_counts = np.bincount(X_c[:, f], minlength=np.max(X) + 1)\n",
    "                self.feature_likelihoods[idx, f, :] = (feature_counts + 1) / (X_c.shape[0] + np.max(X) + 1)\n",
    "\n",
    "    def predict(self, X):\n",
    "        \"\"\"\n",
    "        Predict class labels for samples in X.\n",
    "\n",
    "        Parameters:\n",
    "        -----------\n",
    "        X : numpy.ndarray\n",
    "            Test features (n_samples, n_features).\n",
    "\n",
    "        Returns:\n",
    "        --------\n",
    "        numpy.ndarray\n",
    "            Predicted class labels.\n",
    "        \"\"\"\n",
    "        n_samples = X.shape[0]\n",
    "        n_classes = len(self.classes)\n",
    "        log_probs = np.zeros((n_samples, n_classes))\n",
    "\n",
    "        for idx, c in enumerate(self.classes):\n",
    "            # Log prior\n",
    "            log_prob = np.log(self.class_priors[idx])\n",
    "            for f in range(X.shape[1]):\n",
    "                # Log likelihood of each feature value\n",
    "                log_prob += np.log(self.feature_likelihoods[idx, f, X[:, f]])\n",
    "            log_probs[:, idx] = log_prob\n",
    "\n",
    "        return self.classes[np.argmax(log_probs, axis=1)]"
   ]
  },
  {
   "cell_type": "markdown",
   "id": "00b6a068-e34c-444e-9b65-a2a77fb76030",
   "metadata": {},
   "source": [
    "> ### Example usage:"
   ]
  },
  {
   "cell_type": "code",
   "execution_count": 2,
   "id": "07601cd5-17a5-414a-a30e-7a4a93761459",
   "metadata": {},
   "outputs": [
    {
     "name": "stdout",
     "output_type": "stream",
     "text": [
      "Predictions: [0 1 0]\n"
     ]
    }
   ],
   "source": [
    "# Toy dataset: 2 features, 2 classes\n",
    "# Feature values are integers (categories), labels are 0 or 1\n",
    "X_train = np.array([\n",
    "        [1, 0],\n",
    "        [1, 1],\n",
    "        [0, 1],\n",
    "        [0, 0],\n",
    "        [2, 1],\n",
    "        [2, 0]\n",
    "    ])\n",
    "y_train = np.array([0, 0, 1, 1, 0, 1])\n",
    "\n",
    "X_test = np.array([\n",
    "        [1, 1],\n",
    "        [0, 0],\n",
    "        [2, 1]\n",
    "    ])\n",
    "\n",
    "nb = NaiveBayes()\n",
    "nb.fit(X_train, y_train)\n",
    "predictions = nb.predict(X_test)\n",
    "print(\"Predictions:\", predictions)"
   ]
  }
 ],
 "metadata": {
  "kernelspec": {
   "display_name": "Python 3 (ipykernel)",
   "language": "python",
   "name": "python3"
  },
  "language_info": {
   "codemirror_mode": {
    "name": "ipython",
    "version": 3
   },
   "file_extension": ".py",
   "mimetype": "text/x-python",
   "name": "python",
   "nbconvert_exporter": "python",
   "pygments_lexer": "ipython3",
   "version": "3.10.10"
  }
 },
 "nbformat": 4,
 "nbformat_minor": 5
}
