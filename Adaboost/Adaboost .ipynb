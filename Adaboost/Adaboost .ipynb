{
 "cells": [
  {
   "cell_type": "code",
   "execution_count": 2,
   "id": "ea9e30a9-3289-4cdd-808a-8d568b114161",
   "metadata": {},
   "outputs": [],
   "source": [
    "import numpy as np\n",
    "\n",
    "class AdaBoostClassifier:\n",
    "    \"\"\"\n",
    "    AdaBoost classifier using decision stumps as weak learners.\n",
    "    \"\"\"\n",
    "\n",
    "    def __init__(self, n_estimators=50):\n",
    "        self.n_estimators = n_estimators\n",
    "        self.alphas = []\n",
    "        self.stumps = []\n",
    "\n",
    "    def fit(self, X, y):\n",
    "        n_samples, n_features = X.shape\n",
    "        # Ensure y is {-1, 1}\n",
    "        y_ = np.where(y == 0, -1, 1)\n",
    "        # Initialize weights\n",
    "        w = np.ones(n_samples) / n_samples\n",
    "\n",
    "        for _ in range(self.n_estimators):\n",
    "            stump = DecisionStump()\n",
    "            stump.fit(X, y_, w)\n",
    "            pred = stump.predict(X)\n",
    "            # Compute error\n",
    "            err = np.sum(w * (pred != y_)) / np.sum(w)\n",
    "            # Avoid division by zero, clip error\n",
    "            err = np.clip(err, 1e-10, 1 - 1e-10)\n",
    "            alpha = 0.5 * np.log((1 - err) / err)\n",
    "            # Update weights\n",
    "            w *= np.exp(-alpha * y_ * pred)\n",
    "            w /= np.sum(w)\n",
    "            # Save\n",
    "            self.alphas.append(alpha)\n",
    "            self.stumps.append(stump)\n",
    "\n",
    "    def predict(self, X):\n",
    "        clf_preds = np.array([alpha * stump.predict(X) for stump, alpha in zip(self.stumps, self.alphas)])\n",
    "        y_pred = np.sign(np.sum(clf_preds, axis=0))\n",
    "        return np.where(y_pred == -1, 0, 1)\n",
    "\n",
    "class DecisionStump:\n",
    "    \"\"\"\n",
    "    Decision stump for AdaBoost (single feature threshold classifier)\n",
    "    \"\"\"\n",
    "    def __init__(self):\n",
    "        self.feature_index = None\n",
    "        self.threshold = None\n",
    "        self.polarity = 1\n",
    "\n",
    "    def fit(self, X, y, sample_weight):\n",
    "        n_samples, n_features = X.shape\n",
    "        min_error = float('inf')\n",
    "        for feature_i in range(n_features):\n",
    "            X_column = X[:, feature_i]\n",
    "            thresholds = np.unique(X_column)\n",
    "            for threshold in thresholds:\n",
    "                for polarity in [1, -1]:\n",
    "                    pred = np.ones(n_samples)\n",
    "                    pred[polarity * X_column < polarity * threshold] = -1\n",
    "                    error = np.sum(sample_weight * (pred != y))\n",
    "                    if error < min_error:\n",
    "                        min_error = error\n",
    "                        self.feature_index = feature_i\n",
    "                        self.threshold = threshold\n",
    "                        self.polarity = polarity\n",
    "\n",
    "    def predict(self, X):\n",
    "        n_samples = X.shape[0]\n",
    "        X_column = X[:, self.feature_index]\n",
    "        pred = np.ones(n_samples)\n",
    "        pred[self.polarity * X_column < self.polarity * self.threshold] = -1\n",
    "        return pred"
   ]
  },
  {
   "cell_type": "markdown",
   "id": "6b306121-0cf5-4b08-b790-00be7eccc1a2",
   "metadata": {},
   "source": [
    "> ## Example usage:"
   ]
  },
  {
   "cell_type": "code",
   "execution_count": 3,
   "id": "edcf3f42-5018-4611-bbcd-737746493d94",
   "metadata": {},
   "outputs": [
    {
     "name": "stdout",
     "output_type": "stream",
     "text": [
      "AdaBoost predictions: [0 1 0]\n"
     ]
    }
   ],
   "source": [
    "# Simple binary classification problem\n",
    "X = np.array([[1,2], [2,1], [3,5], [6,8], [7,8], [8,6]])\n",
    "y = np.array([0, 0, 0, 1, 1, 1])  # Classes: 0 and 1\n",
    "\n",
    "clf = AdaBoostClassifier(n_estimators=5)\n",
    "clf.fit(X, y)\n",
    "X_test = np.array([[1,2], [8,7], [4,4]])\n",
    "print(\"AdaBoost predictions:\", clf.predict(X_test))"
   ]
  }
 ],
 "metadata": {
  "kernelspec": {
   "display_name": "Python 3 (ipykernel)",
   "language": "python",
   "name": "python3"
  },
  "language_info": {
   "codemirror_mode": {
    "name": "ipython",
    "version": 3
   },
   "file_extension": ".py",
   "mimetype": "text/x-python",
   "name": "python",
   "nbconvert_exporter": "python",
   "pygments_lexer": "ipython3",
   "version": "3.10.10"
  }
 },
 "nbformat": 4,
 "nbformat_minor": 5
}
