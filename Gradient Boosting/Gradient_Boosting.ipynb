{
 "cells": [
  {
   "cell_type": "code",
   "execution_count": 3,
   "id": "7141bd6a-20d1-4555-8cba-616475aa8005",
   "metadata": {},
   "outputs": [],
   "source": [
    "import numpy as np\n",
    "\n",
    "class DecisionStumpRegressor:\n",
    "    \"\"\"\n",
    "    Simple decision stump regressor (1-level decision tree).\n",
    "    \"\"\"\n",
    "    def __init__(self):\n",
    "        self.feature_index = None\n",
    "        self.threshold = None\n",
    "        self.left_value = None\n",
    "        self.right_value = None\n",
    "\n",
    "    def fit(self, X, y):\n",
    "        m, n = X.shape\n",
    "        min_error = float(\"inf\")\n",
    "        for feature in range(n):\n",
    "            thresholds = np.unique(X[:, feature])\n",
    "            for threshold in thresholds:\n",
    "                left_mask = X[:, feature] <= threshold\n",
    "                right_mask = ~left_mask\n",
    "                if np.any(left_mask) and np.any(right_mask):\n",
    "                    left_value = np.mean(y[left_mask])\n",
    "                    right_value = np.mean(y[right_mask])\n",
    "                    y_pred = np.where(left_mask, left_value, right_value)\n",
    "                    error = np.mean((y - y_pred) ** 2)\n",
    "                    if error < min_error:\n",
    "                        min_error = error\n",
    "                        self.feature_index = feature\n",
    "                        self.threshold = threshold\n",
    "                        self.left_value = left_value\n",
    "                        self.right_value = right_value\n",
    "\n",
    "    def predict(self, X):\n",
    "        mask = X[:, self.feature_index] <= self.threshold\n",
    "        return np.where(mask, self.left_value, self.right_value)\n",
    "\n",
    "class GradientBoostingRegressor:\n",
    "    \"\"\"\n",
    "    Gradient Boosting Regressor with decision stumps as weak learners.\n",
    "    \"\"\"\n",
    "    def __init__(self, n_estimators=100, learning_rate=0.1):\n",
    "        self.n_estimators = n_estimators\n",
    "        self.learning_rate = learning_rate\n",
    "        self.trees = []\n",
    "        self.gammas = []\n",
    "\n",
    "    def fit(self, X, y):\n",
    "        # Initial prediction is the mean of y\n",
    "        y_pred = np.full(y.shape, np.mean(y))\n",
    "        self.init_ = np.mean(y)\n",
    "        for _ in range(self.n_estimators):\n",
    "            residuals = y - y_pred\n",
    "            tree = DecisionStumpRegressor()\n",
    "            tree.fit(X, residuals)\n",
    "            update = tree.predict(X)\n",
    "            y_pred += self.learning_rate * update\n",
    "            self.trees.append(tree)\n",
    "            self.gammas.append(self.learning_rate)\n",
    "\n",
    "    def predict(self, X):\n",
    "        y_pred = np.full((X.shape[0],), self.init_)\n",
    "        for tree, gamma in zip(self.trees, self.gammas):\n",
    "            y_pred += gamma * tree.predict(X)\n",
    "        return y_pred"
   ]
  },
  {
   "cell_type": "markdown",
   "id": "266db6ae-7211-4a48-a68d-a78119065079",
   "metadata": {},
   "source": [
    "> ## Example usage:"
   ]
  },
  {
   "cell_type": "code",
   "execution_count": 4,
   "id": "6b19624d-6187-4ccf-a4c9-b7493a7c4d20",
   "metadata": {},
   "outputs": [
    {
     "name": "stdout",
     "output_type": "stream",
     "text": [
      "Gradient Boosting predictions: [2.4904795  3.82551431 4.71066587]\n"
     ]
    }
   ],
   "source": [
    "# Simple regression dataset\n",
    "X = np.array([[1], [2], [3], [4], [5], [6]])\n",
    "y = np.array([1.2, 1.9, 3.0, 3.9, 5.1, 6.2])\n",
    "\n",
    "gb = GradientBoostingRegressor(n_estimators=10, learning_rate=0.1)\n",
    "gb.fit(X, y)\n",
    "preds = gb.predict(np.array([[1.5], [3.5], [5.5]]))\n",
    "print(\"Gradient Boosting predictions:\", preds)"
   ]
  }
 ],
 "metadata": {
  "kernelspec": {
   "display_name": "Python 3 (ipykernel)",
   "language": "python",
   "name": "python3"
  },
  "language_info": {
   "codemirror_mode": {
    "name": "ipython",
    "version": 3
   },
   "file_extension": ".py",
   "mimetype": "text/x-python",
   "name": "python",
   "nbconvert_exporter": "python",
   "pygments_lexer": "ipython3",
   "version": "3.10.10"
  }
 },
 "nbformat": 4,
 "nbformat_minor": 5
}
