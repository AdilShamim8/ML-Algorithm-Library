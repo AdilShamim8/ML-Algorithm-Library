{
 "cells": [
  {
   "cell_type": "code",
   "execution_count": 3,
   "id": "b68b0517-5b74-4906-b782-b135c82c151f",
   "metadata": {},
   "outputs": [],
   "source": [
    "import numpy as np\n",
    "\n",
    "def stochastic_gradient_descent(X, y, learning_rate=0.01, iterations=1000):\n",
    "    \"\"\"\n",
    "    Stochastic Gradient Descent for Linear Regression\n",
    "\n",
    "    Parameters:\n",
    "    -----------\n",
    "    X : numpy.ndarray\n",
    "        Training features, shape (n_samples, n_features).\n",
    "    y : numpy.ndarray\n",
    "        Target values, shape (n_samples,).\n",
    "    learning_rate : float, optional\n",
    "        Step size for gradient descent (default is 0.01).\n",
    "    iterations : int, optional\n",
    "        Number of epochs (full passes through the training data) (default is 1000).\n",
    "\n",
    "    Returns:\n",
    "    --------\n",
    "    w : numpy.ndarray\n",
    "        Estimated weight vector of shape (n_features,).\n",
    "    b : float\n",
    "        Estimated intercept for the linear regression model.\n",
    "    cost_history : list\n",
    "        List of Mean Squared Error (MSE) values after each epoch.\n",
    "    \"\"\"\n",
    "    y = y.reshape(-1)\n",
    "    n_samples = X.shape[0]\n",
    "    n_features = X.shape[1]\n",
    "\n",
    "    # Initialize weights and bias\n",
    "    w = np.zeros(n_features)\n",
    "    b = 0.0\n",
    "\n",
    "    cost_history = []\n",
    "\n",
    "    for _ in range(iterations):\n",
    "        # Shuffle the data at each epoch\n",
    "        indices = np.arange(n_samples)\n",
    "        np.random.shuffle(indices)\n",
    "\n",
    "        for i in indices:\n",
    "            # Pick a single sample\n",
    "            xi = X[i, :]\n",
    "            yi = y[i]\n",
    "\n",
    "            # Compute prediction\n",
    "            y_pred = np.dot(xi, w) + b\n",
    "\n",
    "            # Compute gradient for this sample\n",
    "            error = y_pred - yi\n",
    "            w_grad = 2 * xi * error\n",
    "            b_grad = 2 * error\n",
    "\n",
    "            # Parameter update\n",
    "            w -= learning_rate * w_grad\n",
    "            b -= learning_rate * b_grad\n",
    "\n",
    "        # Compute MSE after the full pass\n",
    "        y_pred_full = X @ w + b\n",
    "        mse = np.mean((y_pred_full - y) ** 2)\n",
    "        cost_history.append(mse)\n",
    "\n",
    "    return w, b, cost_history"
   ]
  },
  {
   "cell_type": "markdown",
   "id": "d83308fb-1cee-447f-8272-7fd0cf5fe6b7",
   "metadata": {},
   "source": [
    "> ## Example usage"
   ]
  },
  {
   "cell_type": "code",
   "execution_count": 4,
   "id": "a3c4d06b-8006-4b25-8039-73637bf542ab",
   "metadata": {},
   "outputs": [
    {
     "name": "stdout",
     "output_type": "stream",
     "text": [
      "Final Weight (w): [2.91051419]\n",
      "Final Bias (b): 4.121492162666368\n",
      "Final MSE: 0.8252246356479739\n"
     ]
    }
   ],
   "source": [
    "np.random.seed(42)\n",
    "# Generate a small synthetic dataset\n",
    "X_demo = 2 * np.random.rand(50, 1)\n",
    "y_demo = 4 + 3 * X_demo[:, 0] + np.random.randn(50)\n",
    "    \n",
    "# Reshape X_demo to (n_samples, n_features)\n",
    "X_demo = X_demo.reshape(-1, 1)\n",
    "    \n",
    "# Run Stochastic Gradient Descent\n",
    "w_final, b_final, cost_hist = stochastic_gradient_descent(\n",
    "            X_demo,\n",
    "            y_demo,\n",
    "            learning_rate=0.01,\n",
    "            iterations=50\n",
    "        )\n",
    "    \n",
    "print(\"Final Weight (w):\", w_final)\n",
    "print(\"Final Bias (b):\", b_final)\n",
    "print(\"Final MSE:\", cost_hist[-1])"
   ]
  }
 ],
 "metadata": {
  "kernelspec": {
   "display_name": "Python 3 (ipykernel)",
   "language": "python",
   "name": "python3"
  },
  "language_info": {
   "codemirror_mode": {
    "name": "ipython",
    "version": 3
   },
   "file_extension": ".py",
   "mimetype": "text/x-python",
   "name": "python",
   "nbconvert_exporter": "python",
   "pygments_lexer": "ipython3",
   "version": "3.10.10"
  }
 },
 "nbformat": 4,
 "nbformat_minor": 5
}
