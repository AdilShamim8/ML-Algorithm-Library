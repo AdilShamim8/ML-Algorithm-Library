{
 "cells": [
  {
   "cell_type": "code",
   "execution_count": 3,
   "id": "b1c3fc0a-39d8-45f2-a8d8-49d0d7aed8d0",
   "metadata": {},
   "outputs": [],
   "source": [
    "import numpy as np\n",
    "\n",
    "def mini_batch_gradient_descent(X, y, learning_rate=0.01, epochs=100, batch_size=20):\n",
    "    \"\"\"\n",
    "    Mini-Batch Gradient Descent for Linear Regression.\n",
    "\n",
    "    Parameters:\n",
    "    -----------\n",
    "    X : numpy.ndarray\n",
    "        Training features, shape (n_samples, n_features).\n",
    "    y : numpy.ndarray\n",
    "        Target values, shape (n_samples,).\n",
    "    learning_rate : float\n",
    "        Step size for gradient updates (default is 0.01).\n",
    "    epochs : int\n",
    "        Number of epochs (full passes through the dataset) (default is 100).\n",
    "    batch_size : int\n",
    "        Number of samples per mini-batch (default is 20).\n",
    "\n",
    "    Returns:\n",
    "    --------\n",
    "    w : numpy.ndarray\n",
    "        Estimated weight vector of shape (n_features,).\n",
    "    b : float\n",
    "        Estimated intercept for the linear regression model.\n",
    "    cost_history : list\n",
    "        List of Mean Squared Error (MSE) after each epoch.\n",
    "    \"\"\"\n",
    "    n_samples, n_features = X.shape\n",
    "    # Make sure y is 1D\n",
    "    y = y.reshape(-1)\n",
    "\n",
    "    # Initial parameters\n",
    "    w = np.zeros(n_features)\n",
    "    b = 0.0\n",
    "\n",
    "    cost_history = []\n",
    "\n",
    "    for _ in range(epochs):\n",
    "        # Shuffle training data every epoch\n",
    "        indices = np.arange(n_samples)\n",
    "        np.random.shuffle(indices)\n",
    "\n",
    "        # Generate mini-batches\n",
    "        for start_idx in range(0, n_samples, batch_size):\n",
    "            end_idx = start_idx + batch_size\n",
    "            batch_indices = indices[start_idx:end_idx]\n",
    "\n",
    "            # Create mini-batch\n",
    "            X_batch = X[batch_indices]\n",
    "            y_batch = y[batch_indices]\n",
    "\n",
    "            # Predictions\n",
    "            y_pred_batch = X_batch @ w + b\n",
    "\n",
    "            # Error\n",
    "            errors = y_pred_batch - y_batch\n",
    "\n",
    "            # Gradients\n",
    "            dw = (2 / batch_size) * (X_batch.T @ errors)\n",
    "            db = (2 / batch_size) * np.sum(errors)\n",
    "\n",
    "            # Update parameters\n",
    "            w -= learning_rate * dw\n",
    "            b -= learning_rate * db\n",
    "\n",
    "        # Calculate MSE for the entire dataset after each epoch\n",
    "        y_pred_full = X @ w + b\n",
    "        mse = np.mean((y_pred_full - y) ** 2)\n",
    "        cost_history.append(mse)\n",
    "\n",
    "    return w, b, cost_history"
   ]
  },
  {
   "cell_type": "markdown",
   "id": "2fd4b222-1398-42f7-81c3-537d0c0ca3a0",
   "metadata": {},
   "source": [
    "> ## Example usage:"
   ]
  },
  {
   "cell_type": "code",
   "execution_count": 4,
   "id": "b2913ee3-e9f9-4e1f-b76b-25d7ab9aa0cc",
   "metadata": {},
   "outputs": [
    {
     "name": "stdout",
     "output_type": "stream",
     "text": [
      "Final Weight (w): [2.85553206]\n",
      "Final Bias (b): 5.401175062967701\n",
      "Final MSE: 3.3266337627769236\n"
     ]
    }
   ],
   "source": [
    "# Generate synthetic data: y ~ 3 * X + 5 with some noise\n",
    "np.random.seed(42)\n",
    "X_demo = 10 * np.random.rand(100, 1)  # X in [0, 10)\n",
    "noise = np.random.normal(0, 2, size=(100,))\n",
    "y_demo = 5 + 3 * X_demo[:, 0] + noise\n",
    "\n",
    "# Reshape X to (n_samples, n_features)\n",
    "X_demo = X_demo.reshape(-1, 1)\n",
    "\n",
    "# Train with mini-batch gradient descent\n",
    "w_final, b_final, cost_hist = mini_batch_gradient_descent(\n",
    "        X_demo, y_demo,\n",
    "        learning_rate=0.01,\n",
    "        epochs=100,\n",
    "        batch_size=10\n",
    "    )\n",
    "\n",
    "print(\"Final Weight (w):\", w_final)\n",
    "print(\"Final Bias (b):\", b_final)\n",
    "print(\"Final MSE:\", cost_hist[-1])"
   ]
  }
 ],
 "metadata": {
  "kernelspec": {
   "display_name": "Python 3 (ipykernel)",
   "language": "python",
   "name": "python3"
  },
  "language_info": {
   "codemirror_mode": {
    "name": "ipython",
    "version": 3
   },
   "file_extension": ".py",
   "mimetype": "text/x-python",
   "name": "python",
   "nbconvert_exporter": "python",
   "pygments_lexer": "ipython3",
   "version": "3.10.10"
  }
 },
 "nbformat": 4,
 "nbformat_minor": 5
}
